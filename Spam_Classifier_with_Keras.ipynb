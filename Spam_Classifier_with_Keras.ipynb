{
  "cells": [
    {
      "cell_type": "markdown",
      "metadata": {
        "id": "o53USBMWhsEU"
      },
      "source": [
        "# Build a Spam Classifier with Keras\n",
        "With deep learning and AI, handling spam content has gotten easier and easier. Over time (and with the aid of direct user feedback) our spam classifier will rarely produce erroneous results.\n",
        "\n",
        "This is the first part of a multi-part series covering how to:\n",
        "\n",
        "- Build an AI Model (this one)\n",
        "- Integrate a NoSQL Database (inference result storing)\n",
        "- Deploy an AI Model into Production\n",
        "\n",
        "### Prerequisites\n",
        "- Prepare your dataset using [this notebook](https://github.com/codingforentrepreneurs/AI-as-an-API/blob/main/guides/spam-classifier/1%20-%20Prepare%20the%20AI%20Spam%20Classifier%20Dataset.ipynb) .\n",
        "- Convert your dataset into trainable vectors in [this notebook](https://github.com/codingforentrepreneurs/AI-as-an-API/blob/main/guides/spam-classifier/2%20-%20Convert%20Dataset%20into%20Vectors.ipynb) (Either way, this notebook will run this step for us).\n",
        "\n",
        "\n",
        "### Running this notebook:\n",
        "- Recommended: Use [Colab](https://colab.research.google.com/github/codingforentrepreneurs/AI-as-an-API/blob/main/guides/spam-classifier/Spam_Classifier_with_Keras.ipynb) as it offers free GPUs for training models. [Launch this notebook here]([Colab](https://colab.research.google.com/github/codingforentrepreneurs/AI-as-an-API/blob/main/guides/spam-classifier/Spam_Classifier_with_Keras.ipynb))\n",
        "- Fork [the AI as an API repo](https://github.com/codingforentrepreneurs/AI-as-an-API) and run `guides/spam-classifier/Spam_Classifier_with_Keras.ipynb` whenever you'd like.\n",
        "\n",
        "This notebook is brought to in you in partnership with [DataStax](https://dtsx.io/3nRWZEG)."
      ]
    },
    {
      "cell_type": "code",
      "execution_count": null,
      "metadata": {
        "id": "sLgfRoHiy0NG"
      },
      "outputs": [],
      "source": [
        "!pip install boto3\n",
        "# !pip install pandas tensorflow"
      ]
    },
    {
      "cell_type": "code",
      "execution_count": null,
      "metadata": {
        "id": "IJqrnVLmTxfG"
      },
      "outputs": [],
      "source": [
        "import boto3\n",
        "import os\n",
        "import pathlib\n",
        "import pandas as pd\n",
        "import pickle"
      ]
    },
    {
      "cell_type": "code",
      "execution_count": null,
      "metadata": {
        "id": "0BSsnKlpU_pB"
      },
      "outputs": [],
      "source": [
        "from tensorflow.keras.layers import Dense, Input\n",
        "from tensorflow.keras.layers import Conv1D, MaxPooling1D, Embedding, LSTM, SpatialDropout1D\n",
        "from tensorflow.keras.models import Model, Sequential\n",
        "\n",
        "from tensorflow.keras.preprocessing.text import Tokenizer\n",
        "from tensorflow.keras.preprocessing.sequence import pad_sequences"
      ]
    },
    {
      "cell_type": "code",
      "execution_count": null,
      "metadata": {
        "id": "RVD_ZKwBOYSq"
      },
      "outputs": [],
      "source": [
        "EXPORT_DIR = pathlib.Path('/datasets/exports/')\n",
        "GUIDES_DIR = pathlib.Path(\"/guides/spam-classifier/\")\n",
        "DATASET_CSV_PATH = EXPORT_DIR / 'spam-dataset.csv'\n",
        "TRAINING_DATA_PATH = EXPORT_DIR / 'spam-training-data.pkl'\n",
        "PART_TWO_GUIDE_PATH = GUIDES_DIR / \"2 - Convert Dataset into Vectors.ipynb\""
      ]
    },
    {
      "cell_type": "markdown",
      "metadata": {
        "id": "vZPDBgY4cApj"
      },
      "source": [
        "## Prepare Dataset\n",
        "\n",
        "Creating a dataset rarely happens next to where you run the training. The below cells are a method for us to extract the needed data to perform training against."
      ]
    },
    {
      "cell_type": "code",
      "execution_count": null,
      "metadata": {
        "colab": {
          "base_uri": "https://localhost:8080/"
        },
        "id": "a1_igE41T2GD",
        "outputId": "9934198d-6540-4e8a-ace4-b3717b3831e8"
      },
      "outputs": [
        {
          "name": "stdout",
          "output_type": "stream",
          "text": [
            "  % Total    % Received % Xferd  Average Speed   Time    Time     Time  Current\n",
            "                                 Dload  Upload   Total   Spent    Left  Speed\n",
            "100  729k  100  729k    0     0  1175k      0 --:--:-- --:--:-- --:--:-- 1173k\n",
            "  % Total    % Received % Xferd  Average Speed   Time    Time     Time  Current\n",
            "                                 Dload  Upload   Total   Spent    Left  Speed\n",
            "100 15408  100 15408    0     0  40547      0 --:--:-- --:--:-- --:--:-- 40547\n"
          ]
        }
      ],
      "source": [
        "!mkdir -p \"$EXPORT_DIR\"\n",
        "!mkdir -p \"$GUIDES_DIR\"\n",
        "!curl \"https://raw.githubusercontent.com/codingforentrepreneurs/AI-as-an-API/main/datasets/exports/spam-dataset.csv\" -o \"$DATASET_CSV_PATH\"\n",
        "!curl \"https://raw.githubusercontent.com/codingforentrepreneurs/AI-as-an-API/main/guides/spam-classifier/2%20-%20Convert%20Dataset%20into%20Vectors.ipynb\" -o \"$PART_TWO_GUIDE_PATH\""
      ]
    },
    {
      "cell_type": "markdown",
      "metadata": {
        "id": "2RYybCsJczqn"
      },
      "source": [
        "Let's review our extracted dataset which combines two different spam datasets as outlined in [this notebook](https://github.com/codingforentrepreneurs/AI-as-an-API/blob/main/guides/spam-classifier/1%20-%20Prepare%20the%20AI%20Spam%20Classifier%20Dataset.ipynb)."
      ]
    },
    {
      "cell_type": "code",
      "execution_count": null,
      "metadata": {
        "colab": {
          "base_uri": "https://localhost:8080/",
          "height": 206
        },
        "id": "OBbbRHAITzq0",
        "outputId": "eda8417c-82be-41d7-9004-7b38e78c1a26"
      },
      "outputs": [
        {
          "data": {
            "text/html": [
              "<div>\n",
              "<style scoped>\n",
              "    .dataframe tbody tr th:only-of-type {\n",
              "        vertical-align: middle;\n",
              "    }\n",
              "\n",
              "    .dataframe tbody tr th {\n",
              "        vertical-align: top;\n",
              "    }\n",
              "\n",
              "    .dataframe thead th {\n",
              "        text-align: right;\n",
              "    }\n",
              "</style>\n",
              "<table border=\"1\" class=\"dataframe\">\n",
              "  <thead>\n",
              "    <tr style=\"text-align: right;\">\n",
              "      <th></th>\n",
              "      <th>label</th>\n",
              "      <th>text</th>\n",
              "      <th>source</th>\n",
              "    </tr>\n",
              "  </thead>\n",
              "  <tbody>\n",
              "    <tr>\n",
              "      <th>0</th>\n",
              "      <td>ham</td>\n",
              "      <td>Go until jurong point, crazy.. Available only ...</td>\n",
              "      <td>uci-spam-sms</td>\n",
              "    </tr>\n",
              "    <tr>\n",
              "      <th>1</th>\n",
              "      <td>ham</td>\n",
              "      <td>Ok lar... Joking wif u oni...</td>\n",
              "      <td>uci-spam-sms</td>\n",
              "    </tr>\n",
              "    <tr>\n",
              "      <th>2</th>\n",
              "      <td>spam</td>\n",
              "      <td>Free entry in 2 a wkly comp to win FA Cup fina...</td>\n",
              "      <td>uci-spam-sms</td>\n",
              "    </tr>\n",
              "    <tr>\n",
              "      <th>3</th>\n",
              "      <td>ham</td>\n",
              "      <td>U dun say so early hor... U c already then say...</td>\n",
              "      <td>uci-spam-sms</td>\n",
              "    </tr>\n",
              "    <tr>\n",
              "      <th>4</th>\n",
              "      <td>ham</td>\n",
              "      <td>Nah I don't think he goes to usf, he lives aro...</td>\n",
              "      <td>uci-spam-sms</td>\n",
              "    </tr>\n",
              "  </tbody>\n",
              "</table>\n",
              "</div>"
            ],
            "text/plain": [
              "  label                                               text        source\n",
              "0   ham  Go until jurong point, crazy.. Available only ...  uci-spam-sms\n",
              "1   ham                      Ok lar... Joking wif u oni...  uci-spam-sms\n",
              "2  spam  Free entry in 2 a wkly comp to win FA Cup fina...  uci-spam-sms\n",
              "3   ham  U dun say so early hor... U c already then say...  uci-spam-sms\n",
              "4   ham  Nah I don't think he goes to usf, he lives aro...  uci-spam-sms"
            ]
          },
          "execution_count": 5,
          "metadata": {},
          "output_type": "execute_result"
        }
      ],
      "source": [
        "df = pd.read_csv(DATASET_CSV_PATH)\n",
        "df.head()"
      ]
    },
    {
      "cell_type": "markdown",
      "metadata": {
        "id": "GWH9NM8KcsSY"
      },
      "source": [
        "In [this notebook](https://github.com/codingforentrepreneurs/AI-as-an-API/blob/main/guides/spam-classifier/2%20-%20Convert%20Dataset%20into%20Vectors.ipynb) we prepare our dataset (`spam-dataset.csv`) to be fully ready for training on a model. Below is a command to run that notebook."
      ]
    },
    {
      "cell_type": "code",
      "execution_count": null,
      "metadata": {
        "colab": {
          "base_uri": "https://localhost:8080/"
        },
        "id": "pI3KbxGIMNrL",
        "outputId": "e8a70b08-15be-4354-e03c-686456f58beb"
      },
      "outputs": [
        {
          "name": "stdout",
          "output_type": "stream",
          "text": [
            "BASE_DIR is /\n",
            "Random Index 2234\n",
            "Found 9538 unique tokens.\n"
          ]
        }
      ],
      "source": [
        "%run \"$PART_TWO_GUIDE_PATH\""
      ]
    },
    {
      "cell_type": "markdown",
      "metadata": {
        "id": "W60Gz74_dB4j"
      },
      "source": [
        "Extract prepared training dataset results."
      ]
    },
    {
      "cell_type": "code",
      "execution_count": null,
      "metadata": {
        "id": "h2ABatrpKmW6"
      },
      "outputs": [],
      "source": [
        "data = {}\n",
        "\n",
        "with open(TRAINING_DATA_PATH, 'rb') as f:\n",
        "    data = pickle.load(f)"
      ]
    },
    {
      "cell_type": "markdown",
      "metadata": {
        "id": "PVcF78xedHkb"
      },
      "source": [
        "> While the above code uses `pickle` to load in data, this data is actually exported via `pickle` when we execute the `%run` only a few steps ago. Since `pickle` can be unsafe to use from third-party downloaded data, we actually generate (again using `%run`) this pickle data and therefore is safe to use -- it's never downloaded."
      ]
    },
    {
      "cell_type": "markdown",
      "metadata": {
        "id": "47BJJRESdpV5"
      },
      "source": [
        "## Transform Extracted Dataset"
      ]
    },
    {
      "cell_type": "code",
      "execution_count": null,
      "metadata": {
        "id": "-SPvQSPlPFuo"
      },
      "outputs": [],
      "source": [
        "X_test = data['X_test']\n",
        "X_train = data['X_train']\n",
        "y_test = data['y_test']\n",
        "y_train = data['y_train']\n",
        "labels_legend_inverted = data['labels_legend_inverted']\n",
        "legend = data['legend']\n",
        "max_sequence = data['max_sequence']\n",
        "max_words = data['max_words']\n",
        "tokenizer = data['tokenizer']"
      ]
    },
    {
      "cell_type": "markdown",
      "metadata": {
        "id": "A9S87BLRdvmo"
      },
      "source": [
        "## Create our LSTM Model"
      ]
    },
    {
      "cell_type": "code",
      "execution_count": null,
      "metadata": {
        "colab": {
          "base_uri": "https://localhost:8080/"
        },
        "id": "9ScyC-JIU81a",
        "outputId": "e6c9ce7e-0dcd-4238-c766-e840ed191a8a"
      },
      "outputs": [
        {
          "name": "stdout",
          "output_type": "stream",
          "text": [
            "WARNING:tensorflow:Layer lstm will not use cuDNN kernels since it doesn't meet the criteria. It will use a generic GPU kernel as fallback when running on GPU.\n",
            "Model: \"sequential\"\n",
            "_________________________________________________________________\n",
            "Layer (type)                 Output Shape              Param #   \n",
            "=================================================================\n",
            "embedding (Embedding)        (None, 280, 128)          35840     \n",
            "_________________________________________________________________\n",
            "spatial_dropout1d (SpatialDr (None, 280, 128)          0         \n",
            "_________________________________________________________________\n",
            "lstm (LSTM)                  (None, 196)               254800    \n",
            "_________________________________________________________________\n",
            "dense (Dense)                (None, 2)                 394       \n",
            "=================================================================\n",
            "Total params: 291,034\n",
            "Trainable params: 291,034\n",
            "Non-trainable params: 0\n",
            "_________________________________________________________________\n",
            "None\n"
          ]
        }
      ],
      "source": [
        "embed_dim = 128\n",
        "lstm_out = 196\n",
        "\n",
        "model = Sequential()\n",
        "model.add(Embedding(MAX_NUM_WORDS, embed_dim, input_length=X_train.shape[1]))\n",
        "model.add(SpatialDropout1D(0.4))\n",
        "model.add(LSTM(lstm_out, dropout=0.3, recurrent_dropout=0.3))\n",
        "model.add(Dense(2, activation='softmax'))\n",
        "model.compile(loss='categorical_crossentropy', optimizer=\"adam\", metrics=['accuracy'])\n",
        "print(model.summary())"
      ]
    },
    {
      "cell_type": "code",
      "execution_count": null,
      "metadata": {
        "colab": {
          "base_uri": "https://localhost:8080/"
        },
        "id": "liwS1atYVzj0",
        "outputId": "4f7cfdad-1141-4248-c60c-73ee69e4c3d6"
      },
      "outputs": [
        {
          "name": "stdout",
          "output_type": "stream",
          "text": [
            "Epoch 1/5\n",
            "163/163 [==============================] - 278s 2s/step - loss: 0.2675 - accuracy: 0.8958 - val_loss: 0.1621 - val_accuracy: 0.9446\n",
            "Epoch 2/5\n",
            "163/163 [==============================] - 271s 2s/step - loss: 0.1256 - accuracy: 0.9577 - val_loss: 0.1075 - val_accuracy: 0.9664\n",
            "Epoch 3/5\n",
            "163/163 [==============================] - 270s 2s/step - loss: 0.1087 - accuracy: 0.9619 - val_loss: 0.1113 - val_accuracy: 0.9610\n",
            "Epoch 4/5\n",
            "163/163 [==============================] - 268s 2s/step - loss: 0.0961 - accuracy: 0.9650 - val_loss: 0.0910 - val_accuracy: 0.9703\n",
            "Epoch 5/5\n",
            "163/163 [==============================] - 261s 2s/step - loss: 0.0904 - accuracy: 0.9681 - val_loss: 0.0969 - val_accuracy: 0.9653\n"
          ]
        },
        {
          "data": {
            "text/plain": [
              "<keras.callbacks.History at 0x7ff640316f50>"
            ]
          },
          "execution_count": 10,
          "metadata": {},
          "output_type": "execute_result"
        }
      ],
      "source": [
        "batch_size = 32\n",
        "epochs = 5\n",
        "model.fit(X_train, y_train, validation_data=(X_test, y_test), batch_size=batch_size, verbose=1, epochs=epochs)"
      ]
    },
    {
      "cell_type": "code",
      "execution_count": null,
      "metadata": {
        "id": "2VPFG3ZSV3Pr"
      },
      "outputs": [],
      "source": [
        "MODEL_EXPORT_PATH = EXPORT_DIR / 'spam-model.h5'\n",
        "model.save(str(MODEL_EXPORT_PATH))"
      ]
    },
    {
      "cell_type": "markdown",
      "metadata": {
        "id": "Ha2sP2r0ebDi"
      },
      "source": [
        "## Predict new data"
      ]
    },
    {
      "cell_type": "code",
      "execution_count": null,
      "metadata": {
        "id": "Gfbt6BQoV6_k"
      },
      "outputs": [],
      "source": [
        "import numpy as np\n",
        "\n",
        "def predict(text_str, max_words=280, max_sequence = 280, tokenizer=None):\n",
        "  if not tokenizer:\n",
        "    return None\n",
        "  sequences = tokenizer.texts_to_sequences([text_str])\n",
        "  x_input = pad_sequences(sequences, maxlen=max_sequence)\n",
        "  y_output = model.predict(x_input)\n",
        "  top_y_index = np.argmax(y_output)\n",
        "  preds = y_output[top_y_index]\n",
        "  labeled_preds = [{f\"{labels_legend_inverted[str(i)]}\": x} for i, x in enumerate(preds)]\n",
        "  return labeled_preds"
      ]
    },
    {
      "cell_type": "code",
      "execution_count": null,
      "metadata": {
        "colab": {
          "base_uri": "https://localhost:8080/"
        },
        "id": "t_Yy6wdXe7R6",
        "outputId": "b99e282c-de14-4f3c-c0ee-0aac1b09ee26"
      },
      "outputs": [
        {
          "data": {
            "text/plain": [
              "[{'ham': 0.96744573}, {'spam': 0.032554302}]"
            ]
          },
          "execution_count": 13,
          "metadata": {},
          "output_type": "execute_result"
        }
      ],
      "source": [
        "predict(\"Hello world\", max_words=max_words, max_sequence=max_sequence, tokenizer=tokenizer)"
      ]
    },
    {
      "cell_type": "markdown",
      "metadata": {
        "id": "WexqrUW1m9IK"
      },
      "source": [
        "## Exporting Tokenizer & Metadata"
      ]
    },
    {
      "cell_type": "code",
      "execution_count": null,
      "metadata": {
        "colab": {
          "base_uri": "https://localhost:8080/"
        },
        "id": "cpQqUbFvm3CU",
        "outputId": "0fb03c88-281a-488d-d1a2-65701245db05"
      },
      "outputs": [
        {
          "data": {
            "text/plain": [
              "187"
            ]
          },
          "execution_count": 29,
          "metadata": {},
          "output_type": "execute_result"
        }
      ],
      "source": [
        "import json\n",
        "metadata = {\n",
        "    \"labels_legend_inverted\": labels_legend_inverted,\n",
        "    \"legend\": legend,\n",
        "    \"max_sequence\": max_sequence,\n",
        "    \"max_words\": max_words,\n",
        "}\n",
        "\n",
        "METADATA_EXPORT_PATH = EXPORT_DIR / 'spam-classifer-metadata.json'\n",
        "METADATA_EXPORT_PATH.write_text(json.dumps(metadata, indent=4))"
      ]
    },
    {
      "cell_type": "code",
      "execution_count": null,
      "metadata": {
        "colab": {
          "base_uri": "https://localhost:8080/"
        },
        "id": "FU8LwhYHniqu",
        "outputId": "8dfe2b7a-c868-4932-b300-62a37074b98e"
      },
      "outputs": [
        {
          "data": {
            "text/plain": [
              "827612"
            ]
          },
          "execution_count": 15,
          "metadata": {},
          "output_type": "execute_result"
        }
      ],
      "source": [
        "tokenizer_as_json = tokenizer.to_json()\n",
        "\n",
        "TOKENIZER_EXPORT_PATH = EXPORT_DIR / 'spam-classifer-tokenizer.json'\n",
        "TOKENIZER_EXPORT_PATH.write_text(tokenizer_as_json)"
      ]
    },
    {
      "cell_type": "markdown",
      "metadata": {
        "id": "wyAtmJJgoFyc"
      },
      "source": [
        "We can load `tokenizer_as_json` with `tensorflow.keras.preprocessing.text.tokenizer_from_json`."
      ]
    },
    {
      "cell_type": "markdown",
      "metadata": {
        "id": "_UMBCrswmTt-"
      },
      "source": [
        "## Upload Model, Tokenizer, & Metadata to Object Storage\n",
        "\n",
        "Object Storage options include:\n",
        "\n",
        "- AWS S3\n",
        "- Linode Object Storage\n",
        "- DigitalOcean Spaces\n",
        "\n",
        "\n",
        "All three of these options can use `boto3`."
      ]
    },
    {
      "cell_type": "code",
      "execution_count": null,
      "metadata": {
        "id": "vg7rXk1-yh3T"
      },
      "outputs": [],
      "source": [
        "# AWS S3 Config\n",
        "ACCESS_KEY = \"<your_aws_iam_key_id>\"\n",
        "SECRET_KEY = \"<your_aws_iam_secret_key>\"\n",
        "\n",
        "# You should not have to set this\n",
        "ENDPOINT = None\n",
        "\n",
        "# Your s3-bucket region\n",
        "REGION = 'us-west-1'\n",
        "\n",
        "BUCKET_NAME = '<your_s3_bucket_name>'"
      ]
    },
    {
      "cell_type": "markdown",
      "metadata": {
        "id": "tM_5XNwf2vat"
      },
      "source": [
        "#### Linode Object Storage Config"
      ]
    },
    {
      "cell_type": "code",
      "execution_count": null,
      "metadata": {
        "id": "gVw0G1szyc3T"
      },
      "outputs": [],
      "source": [
        "ACCESS_KEY = \"<your_linode_object_storage_access_key>\"\n",
        "SECRET_KEY = \"<your_linode_object_storage_secret_key>\"\n",
        "\n",
        "# Object Storage Endpoint URL\n",
        "ENDPOINT = \"https://cfe3.us-east-1.linodeobjects.com\"\n",
        "\n",
        "# Object Storage Endpoint Region (also in your endpoint url)\n",
        "REGION = 'us-east-1'\n",
        "\n",
        "# Set this to a valid slug (without a \"/\" )\n",
        "BUCKET_NAME = 'datasets'"
      ]
    },
    {
      "cell_type": "markdown",
      "metadata": {
        "id": "q4b8n5Np2sLU"
      },
      "source": [
        "#### DigitalOcean Spaces Config"
      ]
    },
    {
      "cell_type": "code",
      "execution_count": null,
      "metadata": {
        "id": "-wQWHyZyyZto"
      },
      "outputs": [],
      "source": [
        "ACCESS_KEY = \"<your_do_spaces_access_key>\"\n",
        "SECRET_KEY = \"<your_do_spaces_secret_key>\"\n",
        "\n",
        "# Space Endpoint URL\n",
        "ENDPOINT = \"https://ai-cfe-1.nyc3.digitaloceanspaces.com\"\n",
        "\n",
        "# Space Region (also in your endpoint url)\n",
        "REGION = 'nyc3'\n",
        "\n",
        "# Set this to a valid slug (without a \"/\" )\n",
        "BUCKET_NAME = 'datasets'"
      ]
    },
    {
      "cell_type": "markdown",
      "metadata": {
        "id": "vcNiEDz4yczw"
      },
      "source": [
        "## Perform Upload with Boto3"
      ]
    },
    {
      "cell_type": "code",
      "execution_count": null,
      "metadata": {
        "id": "anHupbs23GwB"
      },
      "outputs": [],
      "source": [
        "os.environ[\"AWS_ACCESS_KEY_ID\"] = ACCESS_KEY\n",
        "os.environ[\"AWS_SECRET_ACCESS_KEY\"] = SECRET_KEY"
      ]
    },
    {
      "cell_type": "code",
      "execution_count": null,
      "metadata": {
        "id": "0gECGbRgzcAv"
      },
      "outputs": [],
      "source": [
        "# Upload paths\n",
        "MODEL_KEY_NAME = f\"exports/spam-sms/{MODEL_EXPORT_PATH.name}\"\n",
        "TOKENIZER_KEY_NAME = f\"exports/spam-sms/{TOKENIZER_EXPORT_PATH.name}\"\n",
        "METADATA_KEY_NAME = f\"exports/spam-sms/{METADATA_EXPORT_PATH.name}\""
      ]
    },
    {
      "cell_type": "code",
      "execution_count": null,
      "metadata": {
        "id": "mJvboCTTwz_A"
      },
      "outputs": [],
      "source": [
        "session = boto3.session.Session()\n",
        "client = session.client('s3', region_name=REGION, endpoint_url=ENDPOINT)\n",
        "client.upload_file(str(MODEL_EXPORT_PATH), BUCKET_NAME,  MODEL_KEY_NAME)\n",
        "client.upload_file(str(TOKENIZER_EXPORT_PATH), BUCKET_NAME,  TOKENIZER_KEY_NAME)\n",
        "client.upload_file(str(METADATA_EXPORT_PATH), BUCKET_NAME,  METADATA_KEY_NAME)"
      ]
    },
    {
      "cell_type": "code",
      "execution_count": null,
      "metadata": {
        "id": "CYWesuwOvR95"
      },
      "outputs": [],
      "source": [
        "client.download_file(BUCKET_NAME, MODEL_KEY_NAME, pathlib.Path(MODEL_KEY_NAME).name)\n",
        "client.download_file(BUCKET_NAME, TOKENIZER_KEY_NAME, pathlib.Path(TOKENIZER_KEY_NAME).name)\n",
        "client.download_file(BUCKET_NAME, METADATA_KEY_NAME, pathlib.Path(METADATA_KEY_NAME).name)"
      ]
    },
    {
      "cell_type": "markdown",
      "metadata": {
        "id": "38THtzzjTIUr"
      },
      "source": [
        "## Implement an AI Model Download Pipeline\n",
        "In [this blog post](https://www.codingforentrepreneurs.com/blog/ai-model-download-pipeline) I'll show you how to turn the `client.download_file()` portion into a pipeline so you can make it reusable in future projects. Further, if you ever need to bundle these models into a Docker image, you will be able to use the pipeline."
      ]
    },
    {
      "cell_type": "code",
      "execution_count": null,
      "metadata": {
        "id": "ZzKL5mr-TIUw"
      },
      "outputs": [],
      "source": []
    }
  ],
  "metadata": {
    "accelerator": "GPU",
    "colab": {
      "name": "Spam Classifier with Keras.ipynb",
      "provenance": []
    },
    "kernelspec": {
      "display_name": "Python 3 (ipykernel)",
      "language": "python",
      "name": "python3"
    },
    "language_info": {
      "codemirror_mode": {
        "name": "ipython",
        "version": 3
      },
      "file_extension": ".py",
      "mimetype": "text/x-python",
      "name": "python",
      "nbconvert_exporter": "python",
      "pygments_lexer": "ipython3",
      "version": "3.8.10"
    }
  },
  "nbformat": 4,
  "nbformat_minor": 0
}